{
 "metadata": {
  "name": "",
  "signature": "sha256:241fe95c7cab197f31fc093c4283de34e9ed775e89ebfbe1cdee75ecc47dae15"
 },
 "nbformat": 3,
 "nbformat_minor": 0,
 "worksheets": [
  {
   "cells": [
    {
     "cell_type": "code",
     "collapsed": false,
     "input": [
      "# Autoreload modules so that changes are reflected \n",
      "# https://ipython.org/ipython-doc/dev/config/extensions/autoreload.html\n",
      "%load_ext autoreload\n",
      "%autoreload 2\n",
      "\n",
      "# Load the concept store defined in concept_store.py\n",
      "from concept_store import ConceptStore"
     ],
     "language": "python",
     "metadata": {},
     "outputs": [],
     "prompt_number": 1
    },
    {
     "cell_type": "code",
     "collapsed": false,
     "input": [
      "# Define the list of concepts given in the assignment\n",
      "ls_concepts = [\n",
      "    'Indian',\n",
      "    'Thai',\n",
      "    'Sushi',\n",
      "    'Caribbean',\n",
      "    'Italian',\n",
      "    'West Indian',\n",
      "    'Pub',\n",
      "    'East Asian',\n",
      "    'BBQ',\n",
      "    'Chinese',\n",
      "    'Portuguese',\n",
      "    'Spanish',\n",
      "    'French',\n",
      "    'East European']\n",
      "\n",
      "# Define the list of example strings and the matches that are made\n",
      "# This list is a list of tuples (input, list_of_matches)\n",
      "example_input_match = [\n",
      "    ('I would like some thai food', ['Thai']),\n",
      "    ('Where can I find good sushi', ['Sushi']),\n",
      "    ('Find me a place that does tapas', []),\n",
      "    ('Which restaurants do East Asian food', ['East Asian']),\n",
      "    ('Which restaurants do West Indian food', ['West Indian', 'Indian']),\n",
      "    ('What is the weather like today', [])]"
     ],
     "language": "python",
     "metadata": {},
     "outputs": [],
     "prompt_number": 2
    },
    {
     "cell_type": "code",
     "collapsed": false,
     "input": [
      "# Test out the concept store with the example inputs\n",
      "\n",
      "# Create the store from the list of concepts\n",
      "store = ConceptStore(ls_concepts)\n",
      "\n",
      "# Find matches in the store for every sentence in the input\n",
      "for sent, solution in example_input_match:\n",
      "    result = store.find_matches(sent)\n",
      "    print sent + ', matches: ' + str(result) + ', solution: ' + str(solution)"
     ],
     "language": "python",
     "metadata": {},
     "outputs": [
      {
       "output_type": "stream",
       "stream": "stdout",
       "text": [
        "I would like some thai food, matches: ['Thai'], solution: ['Thai']\n",
        "Where can I find good sushi, matches: ['Sushi'], solution: ['Sushi']\n",
        "Find me a place that does tapas, matches: [], solution: []\n",
        "Which restaurants do East Asian food, matches: ['East Asian'], solution: ['East Asian']\n",
        "Which restaurants do West Indian food, matches: ['West Indian', 'Indian'], solution: ['West Indian', 'Indian']\n",
        "What is the weather like today, matches: [], solution: []\n"
       ]
      }
     ],
     "prompt_number": 3
    }
   ],
   "metadata": {}
  }
 ]
}